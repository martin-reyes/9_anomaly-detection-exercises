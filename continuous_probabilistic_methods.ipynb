{
 "cells": [
  {
   "cell_type": "code",
   "execution_count": 24,
   "id": "831863dd",
   "metadata": {},
   "outputs": [],
   "source": [
    "import pandas as pd\n",
    "import numpy as np\n",
    "import seaborn as sns\n",
    "import matplotlib.pyplot as plt"
   ]
  },
  {
   "cell_type": "markdown",
   "id": "27f1adfd",
   "metadata": {},
   "source": [
    "1. Define a function named get_lower_and_upper_bounds that has two arguments. The first argument is a pandas Series. The second argument is the multiplier, which should have a default argument of 1.5."
   ]
  },
  {
   "cell_type": "code",
   "execution_count": 5,
   "id": "0738bfbc",
   "metadata": {},
   "outputs": [],
   "source": [
    "def get_lower_and_upper_bouns(series, multiplier=1.5):\n",
    "    q1 = series.quantile(.25)\n",
    "    q3 = series.quantile(.75)\n",
    "    iqr = q3 - q1\n",
    "    lb = q1 - (multiplier * iqr)\n",
    "    ub = q3 + (multiplier * iqr)\n",
    "    return lb, ub"
   ]
  },
  {
   "cell_type": "markdown",
   "id": "016ede0c",
   "metadata": {},
   "source": [
    "Use the IQR Range Rule and the lower and upper bounds to identify the outliers of each column of lemonade.csv, using the multiplier of 1.5."
   ]
  },
  {
   "cell_type": "code",
   "execution_count": 19,
   "id": "8a271dde",
   "metadata": {},
   "outputs": [],
   "source": [
    "url = (\"https://gist.githubusercontent.com/ryanorsinger/\"\n",
    "       \"19bc7eccd6279661bd13307026628ace/\"\n",
    "       \"raw/e4b5d6787015a4782f96cad6d1d62a8bdbac54c7/lemonade.csv\")\n",
    "\n",
    "df = pd.read_csv(url)"
   ]
  },
  {
   "cell_type": "code",
   "execution_count": 20,
   "id": "5a61d8fb",
   "metadata": {},
   "outputs": [
    {
     "data": {
      "text/html": [
       "<div>\n",
       "<style scoped>\n",
       "    .dataframe tbody tr th:only-of-type {\n",
       "        vertical-align: middle;\n",
       "    }\n",
       "\n",
       "    .dataframe tbody tr th {\n",
       "        vertical-align: top;\n",
       "    }\n",
       "\n",
       "    .dataframe thead th {\n",
       "        text-align: right;\n",
       "    }\n",
       "</style>\n",
       "<table border=\"1\" class=\"dataframe\">\n",
       "  <thead>\n",
       "    <tr style=\"text-align: right;\">\n",
       "      <th></th>\n",
       "      <th>Date</th>\n",
       "      <th>Day</th>\n",
       "      <th>Temperature</th>\n",
       "      <th>Rainfall</th>\n",
       "      <th>Flyers</th>\n",
       "      <th>Price</th>\n",
       "      <th>Sales</th>\n",
       "    </tr>\n",
       "  </thead>\n",
       "  <tbody>\n",
       "    <tr>\n",
       "      <th>0</th>\n",
       "      <td>1/1/17</td>\n",
       "      <td>Sunday</td>\n",
       "      <td>27.0</td>\n",
       "      <td>2.00</td>\n",
       "      <td>15</td>\n",
       "      <td>0.5</td>\n",
       "      <td>10</td>\n",
       "    </tr>\n",
       "    <tr>\n",
       "      <th>1</th>\n",
       "      <td>1/2/17</td>\n",
       "      <td>Monday</td>\n",
       "      <td>28.9</td>\n",
       "      <td>1.33</td>\n",
       "      <td>15</td>\n",
       "      <td>0.5</td>\n",
       "      <td>13</td>\n",
       "    </tr>\n",
       "    <tr>\n",
       "      <th>2</th>\n",
       "      <td>1/3/17</td>\n",
       "      <td>Tuesday</td>\n",
       "      <td>34.5</td>\n",
       "      <td>1.33</td>\n",
       "      <td>27</td>\n",
       "      <td>0.5</td>\n",
       "      <td>15</td>\n",
       "    </tr>\n",
       "    <tr>\n",
       "      <th>3</th>\n",
       "      <td>1/4/17</td>\n",
       "      <td>Wednesday</td>\n",
       "      <td>44.1</td>\n",
       "      <td>1.05</td>\n",
       "      <td>28</td>\n",
       "      <td>0.5</td>\n",
       "      <td>17</td>\n",
       "    </tr>\n",
       "    <tr>\n",
       "      <th>4</th>\n",
       "      <td>1/5/17</td>\n",
       "      <td>Thursday</td>\n",
       "      <td>42.4</td>\n",
       "      <td>1.00</td>\n",
       "      <td>33</td>\n",
       "      <td>0.5</td>\n",
       "      <td>18</td>\n",
       "    </tr>\n",
       "  </tbody>\n",
       "</table>\n",
       "</div>"
      ],
      "text/plain": [
       "     Date        Day  Temperature  Rainfall  Flyers  Price  Sales\n",
       "0  1/1/17     Sunday         27.0      2.00      15    0.5     10\n",
       "1  1/2/17     Monday         28.9      1.33      15    0.5     13\n",
       "2  1/3/17    Tuesday         34.5      1.33      27    0.5     15\n",
       "3  1/4/17  Wednesday         44.1      1.05      28    0.5     17\n",
       "4  1/5/17   Thursday         42.4      1.00      33    0.5     18"
      ]
     },
     "execution_count": 20,
     "metadata": {},
     "output_type": "execute_result"
    }
   ],
   "source": [
    "df.head()"
   ]
  },
  {
   "cell_type": "code",
   "execution_count": 21,
   "id": "b4d9d2c8",
   "metadata": {},
   "outputs": [
    {
     "name": "stdout",
     "output_type": "stream",
     "text": [
      "Temperature (16.700000000000003, 104.7)\n",
      "Rainfall (0.26, 1.3)\n",
      "Flyers (4.0, 76.0)\n",
      "Price (0.5, 0.5)\n",
      "Sales (5.0, 45.0)\n"
     ]
    }
   ],
   "source": [
    "for col in df.columns:\n",
    "    if np.issubdtype(df[col].dtype, np.number):\n",
    "        print(col, get_lower_and_upper_bouns(df[col], multiplier=1.5))"
   ]
  },
  {
   "cell_type": "markdown",
   "id": "c2da0750",
   "metadata": {},
   "source": [
    "Do the outliers make sense? Which outliers should be kept?\n",
    "- The outlier bounds make sense but as you get further from them, they become unreasonable."
   ]
  },
  {
   "cell_type": "markdown",
   "id": "f5d74740",
   "metadata": {},
   "source": [
    "Using the multiplier of 3, IQR Range Rule, and the lower bounds, identify the outliers in each column of lemonade.csv."
   ]
  },
  {
   "cell_type": "code",
   "execution_count": 23,
   "id": "a0b782ad",
   "metadata": {
    "scrolled": true
   },
   "outputs": [
    {
     "name": "stdout",
     "output_type": "stream",
     "text": [
      "Temperature (-16.299999999999997, 137.7)\n",
      "Rainfall (-0.13, 1.69)\n",
      "Flyers (-23.0, 103.0)\n",
      "Price (0.5, 0.5)\n",
      "Sales (-10.0, 60.0)\n"
     ]
    }
   ],
   "source": [
    "for col in df.columns:\n",
    "    if np.issubdtype(df[col].dtype, np.number):\n",
    "        print(col, get_lower_and_upper_bouns(df[col], multiplier=3))"
   ]
  },
  {
   "cell_type": "markdown",
   "id": "79dd8061",
   "metadata": {},
   "source": [
    "Do the outliers make sense? Which outliers should be kept?\n",
    "- Most of the outlier bounds are not evven reasonable"
   ]
  },
  {
   "cell_type": "markdown",
   "id": "be7e9df6",
   "metadata": {},
   "source": [
    "Identify if any columns in lemonade.csv are normally distributed. For normally distributed columns:\n",
    "- Outside of outliers, the distributions seem normally distributedd\n",
    "\n",
    "Use a 2 sigma decision rule to isolate the outliers.\n",
    "\n",
    "Do these make sense?\n",
    "- The outliers don't make sense and are unreasonable\n",
    "\n",
    "Should certain outliers be kept or removed?"
   ]
  },
  {
   "cell_type": "code",
   "execution_count": 28,
   "id": "9c8d8fd9",
   "metadata": {
    "scrolled": true
   },
   "outputs": [
    {
     "data": {
      "image/png": "[encoded data removed]",
      "text/plain": [
       "<Figure size 300x200 with 1 Axes>"
      ]
     },
     "metadata": {},
     "output_type": "display_data"
    },
    {
     "data": {
      "image/png": "[encoded data removed]",
      "text/plain": [
       "<Figure size 300x200 with 1 Axes>"
      ]
     },
     "metadata": {},
     "output_type": "display_data"
    },
    {
     "data": {
      "image/png": "[encoded data removed]",
      "text/plain": [
       "<Figure size 300x200 with 1 Axes>"
      ]
     },
     "metadata": {},
     "output_type": "display_data"
    },
    {
     "data": {
      "image/png": "[encoded data removed]",
      "text/plain": [
       "<Figure size 300x200 with 1 Axes>"
      ]
     },
     "metadata": {},
     "output_type": "display_data"
    },
    {
     "data": {
      "image/png": "[encoded data removed]",
      "text/plain": [
       "<Figure size 300x200 with 1 Axes>"
      ]
     },
     "metadata": {},
     "output_type": "display_data"
    }
   ],
   "source": [
    "for col in df.columns:\n",
    "    if np.issubdtype(df[col].dtype, np.number):\n",
    "        plt.figure(figsize=(3,2))\n",
    "        sns.histplot(df[col])\n",
    "        plt.show()"
   ]
  },
  {
   "cell_type": "code",
   "execution_count": 36,
   "id": "b91a2909",
   "metadata": {},
   "outputs": [
    {
     "data": {
      "text/plain": [
       "181    143\n",
       "182    158\n",
       "183    235\n",
       "184    534\n",
       "Name: Sales, dtype: int64"
      ]
     },
     "execution_count": 36,
     "metadata": {},
     "output_type": "execute_result"
    }
   ],
   "source": [
    "# Calculate the z-score \n",
    "zscores = pd.Series((df[col] - df[col].mean()) / df[col].std())\n",
    "\n",
    "# Finds all of the observations two standard deviations or more.\n",
    "df[col][zscores.abs() >= 2]"
   ]
  },
  {
   "cell_type": "markdown",
   "id": "ba056f4d",
   "metadata": {},
   "source": [
    "Now use a 3 sigma decision rule to isolate the outliers in the normally distributed columns from lemonade.csv"
   ]
  },
  {
   "cell_type": "code",
   "execution_count": 37,
   "id": "f1bd8eae",
   "metadata": {},
   "outputs": [
    {
     "data": {
      "text/plain": [
       "181    143\n",
       "182    158\n",
       "183    235\n",
       "184    534\n",
       "Name: Sales, dtype: int64"
      ]
     },
     "execution_count": 37,
     "metadata": {},
     "output_type": "execute_result"
    }
   ],
   "source": [
    "# Finds all of the observations three standard deviations or more\n",
    "df[col][zscores.abs() >= 3]"
   ]
  }
 ],
 "metadata": {
  "kernelspec": {
   "display_name": "Python 3 (ipykernel)",
   "language": "python",
   "name": "python3"
  },
  "language_info": {
   "codemirror_mode": {
    "name": "ipython",
    "version": 3
   },
   "file_extension": ".py",
   "mimetype": "text/x-python",
   "name": "python",
   "nbconvert_exporter": "python",
   "pygments_lexer": "ipython3",
   "version": "3.10.9"
  },
  "varInspector": {
   "cols": {
    "lenName": 16,
    "lenType": 16,
    "lenVar": 40
   },
   "kernels_config": {
    "python": {
     "delete_cmd_postfix": "",
     "delete_cmd_prefix": "del ",
     "library": "var_list.py",
     "varRefreshCmd": "print(var_dic_list())"
    },
    "r": {
     "delete_cmd_postfix": ") ",
     "delete_cmd_prefix": "rm(",
     "library": "var_list.r",
     "varRefreshCmd": "cat(var_dic_list()) "
    }
   },
   "types_to_exclude": [
    "module",
    "function",
    "builtin_function_or_method",
    "instance",
    "_Feature"
   ],
   "window_display": false
  }
 },
 "nbformat": 4,
 "nbformat_minor": 5
}
